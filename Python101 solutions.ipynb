{
 "cells": [
  {
   "cell_type": "markdown",
   "metadata": {},
   "source": [
    "# Introduction to Python, Numpy & some useful tips\n",
    "\n",
    "This notebook serves as a mini-tutorial to introduce Python and some of the libraries and tools used in this course. You will encounter many of them repeatedly in the following assignments.<br>\n",
    "\n",
    "In this notebook, there are text blocks and code blocks, with the code blocks providing a way to code directly within the text. Everything within them is just regular Python code.\n",
    "<div class=\"alert alert-block alert-info\">\n",
    "The blue boxes are <b>info</b> boxes. They usually contain additional knowledge or tips that are not necessarily relevant for completing the tasks in the notebook.\n",
    "</div> \n",
    "<div class=\"alert alert-block alert-warning\">\n",
    "The orange boxes always indicate <b>short tasks</b>. Below them, you will usually find empty code blocks where you should complete the tasks.\n",
    "</div>"
   ]
  },
  {
   "cell_type": "code",
   "execution_count": 26,
   "metadata": {
    "metadata": {}
   },
   "outputs": [],
   "source": [
    "# Python Playground\n",
    "# TODO Code & Conquer - Unleash your inner coding warrior and dominate the digital realm one line of Python at a time!"
   ]
  },
  {
   "cell_type": "markdown",
   "metadata": {},
   "source": [
    "***"
   ]
  },
  {
   "cell_type": "markdown",
   "metadata": {},
   "source": [
    "## 1. \"Hello, World!\" ##\n",
    "But let's start with the basics. This is what “Hello, World!” would look like in Python:"
   ]
  },
  {
   "cell_type": "code",
   "execution_count": 27,
   "metadata": {
    "metadata": {}
   },
   "outputs": [
    {
     "name": "stdout",
     "output_type": "stream",
     "text": [
      "Hello, World!\n"
     ]
    }
   ],
   "source": [
    "print(\"Hello, World!\")"
   ]
  },
  {
   "cell_type": "markdown",
   "metadata": {},
   "source": [
    "Easy peasy!\n",
    "\n",
    "## 2. Declaring variables and their handling \n",
    "\n",
    "### 2.1 Declaring variables\n",
    "\n",
    "Unlike in many other programming languages, no variable types need to be declared in Python. The data type is only determined by assigning a value:"
   ]
  },
  {
   "cell_type": "code",
   "execution_count": 28,
   "metadata": {
    "metadata": {}
   },
   "outputs": [
    {
     "name": "stdout",
     "output_type": "stream",
     "text": [
      "a is of type:  <class 'int'>  with the value:  2\n",
      "b is of type:  <class 'str'>  with the value:  I want 1000 BlueROVS\n"
     ]
    }
   ],
   "source": [
    "a = 2\n",
    "b = 'I want 1000 BlueROVS'\n",
    "print('a is of type: ', type(a), ' with the value: ', a)\n",
    "print('b is of type: ', type(b), ' with the value: ', b)"
   ]
  },
  {
   "cell_type": "markdown",
   "metadata": {},
   "source": [
    "\n",
    "__Pro Tip: F-Strings__ <br> Usually, it's better to use F-Strings, also known as format strings, because they allow you to directly embed variables or expressions within the string, unlike traditional strings: <br>\n",
    "\n",
    "<code> print(f'a is of type: {type(a)} with the value {a}') </code><br>\n",
    "\n",
    "The big advantage is that <b>single quotes '...'</b> only appear once, and variables can be referenced using <b> curly braces {...}</b>.\n",
    "\n",
    "<div class=\"alert alert-block alert-warning\"> <b>🔽 Your Turn: 🔽</b> <br><br>\n",
    "Try using <b>F-Strings</b> in the code block right below, initialize different variable types, and see what happens when you run the script again. <br> You can either click on <b>\"Run All\"</b> in the navigation above,<br> <left><img src=\"figures/excecuteall.png\" width=\"300\"><br> or on the <b>triangle ▷ on the left</b> next to the code block itself :D<br> <left><img src=\"figures/excecutecell.png\" width=\"200\"> </div>"
   ]
  },
  {
   "cell_type": "code",
   "execution_count": 29,
   "metadata": {
    "metadata": {}
   },
   "outputs": [],
   "source": [
    "# Python Playground"
   ]
  },
  {
   "cell_type": "markdown",
   "metadata": {},
   "source": [
    "### 2.2 Arithmetic operations\n",
    "\n",
    "work in the same way as in most programming languages with\n",
    " - addition `+`\n",
    " - subtraction `-`\n",
    " - multiplication `*`\n",
    " - division `/`."
   ]
  },
  {
   "cell_type": "code",
   "execution_count": 30,
   "metadata": {
    "metadata": {}
   },
   "outputs": [
    {
     "name": "stdout",
     "output_type": "stream",
     "text": [
      "18\n"
     ]
    }
   ],
   "source": [
    "# With ** you can raise values to a power\n",
    "\n",
    "solution = 3**2 * 2\n",
    "print(solution)"
   ]
  },
  {
   "cell_type": "markdown",
   "metadata": {},
   "source": [
    "So much for the basics.\n",
    "## 3. ✨ Numpy ✨ ##\n",
    "<div class=\"alert alert-block alert-info\">\n",
    "<b>You have already worked with Matlab before? </b> In that case the following website could be quite helpful for you <a href=\"https://numpy.org/doc/stable/user/numpy-for-matlab-users.html\">NumPy for Matlab Users</a> <br>\n",
    "Equivalent code examples are listed here in tabular form and the relevant differences between the two languages are highlighted.\n",
    "</div>\n",
    "\n",
    "Unlike many other programming languages, Python's standard library does not provide explicit array data types. Instead, lists are typically used to represent arrays.\n",
    "\n",
    "That’s why we have <b><code>NumPy</code></b> (Numerical Python), an additional library that we will use in this course. It is particularly useful when dealing with large datasets, as operations are executed faster and memory is used more efficiently. Additionally, <code>NumPy</code> offers an extensive library of functions for statistical, algebraic, and mathematical operations on arrays, which eliminates the need for explicit loops in many cases and makes the code cleaner and faster.\n",
    "\n",
    "<div class=\"alert alert-block alert-info\"> There is very detailed documentation online on all the functionalities of the library elements with code examples. It is generally worthwhile to quickly check the documentation if you're unsure about the syntax or input variables, or if you're looking for a specific element.<br> <a href=\"https://numpy.org/doc/stable/reference/routines.array-creation.html\">NumPy Documentation</a> <br> Alternatively, you can also hover your mouse over the function to see possible inputs for the function. </div></br>\n",
    "To take full advantage of NumPy, we first need to import it:"
   ]
  },
  {
   "cell_type": "code",
   "execution_count": 31,
   "metadata": {
    "metadata": {}
   },
   "outputs": [],
   "source": [
    "import numpy"
   ]
  },
  {
   "cell_type": "markdown",
   "metadata": {},
   "source": [
    "You only need this line of code once within a document, and it is usually written right at the beginning. <br>\n",
    "Now, we can get started:"
   ]
  },
  {
   "cell_type": "code",
   "execution_count": 32,
   "metadata": {
    "metadata": {}
   },
   "outputs": [],
   "source": [
    "# Simple NumPy array in row form\n",
    "row_vector = numpy.array([1, 2, 3, 4, 5])\n",
    "\n",
    "# Defining matrices\n",
    "matrix1 = numpy.array([[1, 2, 3], [4, 5, 6], [7, 8, 9]])\n",
    "matrix2 = numpy.array([[1, 0], [0, 0]])"
   ]
  },
  {
   "cell_type": "markdown",
   "metadata": {},
   "source": [
    "<div class=\"alert alert-block alert-warning\"> \n",
    "<b>🔽 Your Turn: 🔽</b><br>\n",
    "With <b>@</b> you can <b>multiply matrices</b>. Try it out below by defining a new <code>matrix3</code> of appropriate size, and then multiply it with <code>matrix1</code>. \n",
    "</div>"
   ]
  },
  {
   "cell_type": "code",
   "execution_count": 33,
   "metadata": {
    "metadata": {}
   },
   "outputs": [],
   "source": [
    "# Python Playground"
   ]
  },
  {
   "cell_type": "markdown",
   "metadata": {},
   "source": [
    "__Pro Tip: Using Libraries Properly__ <br>\n",
    "You’ve probably noticed that every element from the NumPy library above is always prefixed with <code>numpy.</code>. That seems a bit annoying in the long run, right? <br>\n",
    "There’s an __easier__ way by using:\n",
    "\n",
    "<code>import numpy as np</code>,<br>\n",
    "\n",
    "where <code>np</code> (theoretically) can be replaced by any other abbreviation or \"alias.\" From then on, you can access the library more easily: <code>np.name</code>\n",
    "\n",
    "<div class=\"alert alert-block alert-warning\"> \n",
    "<b>🔽 Your Turn: 🔽</b><br>\n",
    "Import <code>numpy</code> using the alias <code>np</code>!\n",
    "</div>"
   ]
  },
  {
   "cell_type": "code",
   "execution_count": 34,
   "metadata": {
    "metadata": {}
   },
   "outputs": [],
   "source": [
    "# Python Playground\n",
    "\n",
    "import numpy as np\n"
   ]
  },
  {
   "cell_type": "markdown",
   "metadata": {},
   "source": [
    "<div class=\"alert alert-block alert-info\"> \n",
    "If you only need to access specific elements of a library, it can be useful to import them explicitly: <br>\n",
    "<code>from numpy import sinc, pi</code> In this case, <code>sinc()</code> (sine function) and <code>pi</code>. The big advantage is that <code>sinc()</code> and <code>pi</code> can now be called directly without needing the library name.\n",
    "</div> \n",
    "<div class=\"alert alert-block alert-warning\">\n",
    "<b>🔽 Your Turn: 🔽</b> <br>\n",
    "Calculate the inverse of the following matrix.<br>\n",
    "Check the online documentation for NumPy for help: <a href=\"https://numpy.org/doc/stable/reference/routines.array-creation.html\">NumPy Documentation</a> <br>\n",
    "</div>"
   ]
  },
  {
   "cell_type": "code",
   "execution_count": 35,
   "metadata": {
    "metadata": {}
   },
   "outputs": [
    {
     "name": "stdout",
     "output_type": "stream",
     "text": [
      "A = [[0.19349149 0.76060183 0.34009777]\n",
      " [0.61047732 0.51594503 0.16481241]\n",
      " [0.73588801 0.43895396 0.78696637]]\n",
      "the inverse of A is A_inv = [[0.19349149 0.76060183 0.34009777]\n",
      " [0.61047732 0.51594503 0.16481241]\n",
      " [0.73588801 0.43895396 0.78696637]]\n"
     ]
    }
   ],
   "source": [
    "# python playground\n",
    "\n",
    "# np.random.rand(rows, cols) generates a random matrix of a defined size\n",
    "A = np.random.rand(3,3)\n",
    "print(f'A = {A}')\n",
    "\n",
    "A_inv = A # this doesn't seem right yet\n",
    "print(f'the inverse of A is A_inv = {A_inv}')"
   ]
  },
  {
   "cell_type": "markdown",
   "metadata": {},
   "source": [
    "Now that we’ve teased the **powerful tools** of NumPy, it doesn’t seem all that impressive just yet. So, here’s a tiny selection to showcase its capabilities:"
   ]
  },
  {
   "cell_type": "code",
   "execution_count": 36,
   "metadata": {
    "metadata": {}
   },
   "outputs": [
    {
     "name": "stdout",
     "output_type": "stream",
     "text": [
      "The first element in matrix1 is 1 and is accessed with index 0\n",
      "The last element in matrix1 is 9 or 9\n"
     ]
    }
   ],
   "source": [
    "# ARRAY WITH ZEROS OF DIMENSION 2X3\n",
    "zero_matrix = np.zeros((2, 3))\n",
    "\n",
    "# ARRAY WITH ONES OF DIMENSION 2X4\n",
    "ones_matrix = np.ones((2, 4))\n",
    "\n",
    "# ARRAY WITH ONES ON THE DIAGONAL AND ZEROS ELSEWHERE\n",
    "eye_matrix = np.eye(3, 3)\n",
    "\n",
    "# ARRAY OF A CERTAIN SIZE WITH UNINITIALIZED ENTRIES\n",
    "empty_matrix = np.empty((2, 3))\n",
    "\n",
    "# ARRAY WITH 50 EQUALLY SPACED VALUES BETWEEN 0 AND 5\n",
    "t = np.linspace(0, 5, 50)\n",
    "\n",
    "# ACCESSING INDIVIDUAL ELEMENTS\n",
    "print(f'The first element in matrix1 is {matrix1[0, 0]} and is accessed with index 0')\n",
    "print(f'The last element in matrix1 is {matrix1[-1, -1]} or {matrix1[2, 2]}')\n",
    "\n"
   ]
  },
  {
   "cell_type": "code",
   "execution_count": 37,
   "metadata": {},
   "outputs": [
    {
     "name": "stdout",
     "output_type": "stream",
     "text": [
      "the elementwise multiplication of matrix1 and eye_matrix is [[1. 0. 0.]\n",
      " [0. 5. 0.]\n",
      " [0. 0. 9.]]\n"
     ]
    }
   ],
   "source": [
    "\n",
    "# ELEMENTWISE MULTIPLICATION\n",
    "print(f'the elementwise multiplication of matrix1 and eye_matrix is {matrix1*eye_matrix}')\n",
    "    #(as a reminder: regular matrix multiplication with @)"
   ]
  },
  {
   "cell_type": "code",
   "execution_count": 38,
   "metadata": {},
   "outputs": [
    {
     "name": "stdout",
     "output_type": "stream",
     "text": [
      "[[ 1  2  3]\n",
      " [ 4  5  6]\n",
      " [ 7  8  9]\n",
      " [10 11 12]]\n"
     ]
    }
   ],
   "source": [
    "# APPEND\n",
    "    # create a new row array\n",
    "new_row = np.array([[10, 11, 12]])\n",
    "    # append new_row to Matrix1\n",
    "print(np.append(matrix1, new_row, axis=0)) \n",
    "    # “axis=0” defines the axis along which new elements are to be added\n",
    "    # if this argument is omitted, the entire array is “flattened” into a single row vector"
   ]
  },
  {
   "cell_type": "markdown",
   "metadata": {},
   "source": [
    "## 4. **if else** and **for loops**\n",
    "\n",
    "### 4.1 **if else**\n",
    "\n",
    "In Python, if-else conditions allow different blocks of code to be executed based on the truth of a condition. While `if else` makes it clear that only one of the two blocks will be executed, multiple independent `if` conditions result in each condition being checked separately. This can be more inefficient in certain cases.\n",
    "Here is a simple example of `if else` that checks whether a number is positive, negative or zero:"
   ]
  },
  {
   "cell_type": "code",
   "execution_count": 39,
   "metadata": {},
   "outputs": [
    {
     "name": "stdout",
     "output_type": "stream",
     "text": [
      "the number 10 is positive\n"
     ]
    }
   ],
   "source": [
    "number = 10\n",
    "\n",
    "if number > 0:\n",
    "    print(f'the number {number} is positive')\n",
    "elif number < 0:\n",
    "    print(f'the number {number} is negative')\n",
    "else:\n",
    "    print(f'the number {number} is negative or zero')"
   ]
  },
  {
   "cell_type": "markdown",
   "metadata": {},
   "source": [
    "The `elif` stands for `else if` and can theoretically be used as often as you like.\n",
    "\n",
    "### 4.2 **for loops**\n",
    "\n",
    "In Pyhton, `for` loops iterate over lists/arrays, which is why the syntax usually looks like this:"
   ]
  },
  {
   "cell_type": "code",
   "execution_count": 40,
   "metadata": {},
   "outputs": [
    {
     "name": "stdout",
     "output_type": "stream",
     "text": [
      "a\n",
      "big\n",
      "water\n",
      "tank\n"
     ]
    }
   ],
   "source": [
    "words = np.array((['a', 'big', 'water', 'tank']))\n",
    "\n",
    "for i in words:\n",
    "    print(i)\n"
   ]
  },
  {
   "cell_type": "markdown",
   "metadata": {},
   "source": [
    "If you want to iterate over a numerical sequence with a starting and ending value, you can simply do so using `for i in range(start_val, last_val): ...`.\n",
    "\n",
    "## 5. **enumerate**\n",
    "With `enumerate` you can enumerate elements from an array or a list and save them in a new array/list as a tuple."
   ]
  },
  {
   "cell_type": "code",
   "execution_count": 41,
   "metadata": {},
   "outputs": [
    {
     "name": "stdout",
     "output_type": "stream",
     "text": [
      "[(0, np.str_('a')), (1, np.str_('big')), (2, np.str_('water')), (3, np.str_('tank'))]\n"
     ]
    }
   ],
   "source": [
    "words_enum = enumerate(words)\n",
    "print(list(words_enum))"
   ]
  },
  {
   "cell_type": "code",
   "execution_count": 42,
   "metadata": {},
   "outputs": [
    {
     "name": "stdout",
     "output_type": "stream",
     "text": [
      "[(2, np.str_('a')), (3, np.str_('big')), (4, np.str_('water')), (5, np.str_('tank'))]\n"
     ]
    }
   ],
   "source": [
    "# start the enumeration at 2 (default is 0)\n",
    "print(list(enumerate(words, 2)))"
   ]
  },
  {
   "cell_type": "code",
   "execution_count": 43,
   "metadata": {},
   "outputs": [
    {
     "name": "stdout",
     "output_type": "stream",
     "text": [
      "0 a\n",
      "1 big\n",
      "2 water\n",
      "3 tank\n"
     ]
    }
   ],
   "source": [
    "# Iteration and accessing the first tuple\n",
    "for index, word in enumerate(words):\n",
    "    print(index, word)"
   ]
  },
  {
   "cell_type": "markdown",
   "metadata": {},
   "source": [
    "## 6. Functions\n",
    "Among other advvantages, functions allow you to write code once and reuse it multiple times without repeating it and help break a large problem into smaller, manageable parts, making the code easier to understand, debug, and maintain.\n",
    "\n",
    "<div class=\"alert alert-block alert-warning\">\n",
    "<b>🔽 Your Turn: 🔽 </b><br><br>\n",
    "\n",
    "Write a function, that extracts all <b>zeros</b> and <b>twos</b> out of the array <code> measure_data </code> and adds them to a new array <code> reduced_data </code> while enumerating them. At the end, print <code> reduced_data </code> with the numbers and the corresponding count.\n",
    "\n",
    "</div>"
   ]
  },
  {
   "cell_type": "code",
   "execution_count": 45,
   "metadata": {},
   "outputs": [
    {
     "name": "stdout",
     "output_type": "stream",
     "text": [
      "1 0.0\n",
      "2 2.0\n",
      "3 0.0\n",
      "4 2.0\n",
      "5 0.0\n"
     ]
    }
   ],
   "source": [
    "# Python Playground\n",
    "\n",
    "# define reduced_data\n",
    "reduced_data = np.array([])\n",
    "\n",
    "# define function to process data\n",
    "def my_function(measures):\n",
    "    global reduced_data\n",
    "    for i, value in enumerate(measures[0]):\n",
    "        if value == 0 or value == 2:\n",
    "            reduced_data = np.append(reduced_data, value)\n",
    "\n",
    "\n",
    "\n",
    "# Measure data array\n",
    "measure_data = np.array([[0, 2, 3 ,5 ,1 ,0 ,4 ,3 ,2 ,0 ,1, 9, 6, 7, 8]])\n",
    "\n",
    "# call the function\n",
    "my_function(measure_data)\n",
    "\n",
    "# print reduced_data and count its entrys along the way\n",
    "for index, val in enumerate(reduced_data, 1):\n",
    "    print(index, val)"
   ]
  },
  {
   "cell_type": "markdown",
   "metadata": {},
   "source": [
    "## 7. list comprehensions\n",
    "\n",
    "*\"List comprehensions are like the Pythonic way of saying, 'Why take the long way around when you can just teleport to your destination?'\"*\n",
    "\n",
    "Here ist a quick example why"
   ]
  },
  {
   "cell_type": "code",
   "execution_count": null,
   "metadata": {},
   "outputs": [],
   "source": [
    "# Traditional way using a for loop\n",
    "numbers = [1, 2, 3, 4, 5, 6, 7, 8, 9, 10]\n",
    "squared_evens = []\n",
    "\n",
    "for num in numbers:\n",
    "    if num % 2 == 0:\n",
    "        squared_evens.append(num ** 2)\n",
    "\n",
    "print(squared_evens)"
   ]
  },
  {
   "cell_type": "markdown",
   "metadata": {},
   "source": [
    "In this snippet, the goal is to square every even number of an original list `numbers` and save those squared numbers in a new list `squared_evens`.\n",
    "<div class=\"alert alert-block alert-info\"> \n",
    "You may have noticed that the syntax for <code>.append()</code> is slightly different here as opposed to <code>np.append</code>. That is because <code>.append()</code> ist more convenient when working with lists.\n",
    "</div> \n",
    "\n",
    "And here comes the magic of list comprehensions: with just **one simple line of code** (instead of 4) we can accomplish the same thing:"
   ]
  },
  {
   "cell_type": "code",
   "execution_count": null,
   "metadata": {},
   "outputs": [],
   "source": [
    "# Simplified version using list comprehension\n",
    "SQUARED_EVENS = [num ** 2 for num in numbers if num % 2 == 0]\n",
    "\n",
    "print(SQUARED_EVENS)"
   ]
  },
  {
   "cell_type": "markdown",
   "metadata": {},
   "source": [
    "As you can see, list comprehensions are concise, allowing you to perform tasks in a single line, making the code cleaner and easier to read. Despite their brevity, they clearly express the operation, and they are often more efficient than traditional loops due to their optimization for such tasks.\n",
    "\n",
    "<div class=\"alert alert-block alert-warning\">\n",
    "<b>🔽 Your Turn: 🔽 </b>\n",
    "\n",
    "Convert a list of distances from feet to metres using list comprehension if the original distance is equal to or below 100 ft.\n",
    "</div>\n",
    "\n",
    "**Hint:** the formula for transferring distances from feet to metres is:\n",
    "$$ [m] = {{[ft]} \\over 3.281} $$"
   ]
  },
  {
   "cell_type": "code",
   "execution_count": 54,
   "metadata": {},
   "outputs": [
    {
     "name": "stdout",
     "output_type": "stream",
     "text": [
      "[21.334958854007922, 15.239256324291373, 20.72538860103627, 26.21152087778116, 30.478512648582747]\n"
     ]
    }
   ],
   "source": [
    "# python playground\n",
    "\n",
    "# distances in feet\n",
    "feet = [70, 50, 102, 68, 86, 104, 100]\n",
    "\n",
    "# TODO convert feet to metres if <= 100\n",
    "\n",
    "metres = [dist/3.281 for dist in feet if dist <= 100]\n",
    "\n",
    "print(metres)  # Output: [21.334958854007922, 15.239256324291373, 20.72538860103627, 26.21152087778116, 30.478512648582747]"
   ]
  },
  {
   "cell_type": "markdown",
   "metadata": {},
   "source": [
    "<div class=\"alert alert-block alert-warning\">\n",
    "<b>🔽 Your Turn: 🔽 Underwater Robot Depth Tracking Based on Pressure </b><br><br>\n",
    "\n",
    "In underwater exploration, robots continuously monitor depth changes by measuring pressure. Pressure increases with depth due to the weight of the water above, and it decreases as the robot ascends. Tracking the depth based on pressure changes is crucial for navigation and safety.\n",
    "\n",
    "<u><b>Problem Statement:</b></u><br>\n",
    "    A underwater robot monitors its depth by measuring pressure in Pascals. As the robot moves deeper into the water, the pressure increases, and as it ascends, the pressure decreases. Write a Python program that processes the pressure readings, which are given to you with the array <code> pressure </code> and determines whether the robot is ascending or descending.<br>\n",
    "\n",
    "In detail the program should:\n",
    "<ol>\n",
    "        <li> Iterate through the pressure readings using enumerate and calculate whether the robot is ascending or descending: </li>\n",
    "        <ul>\n",
    "            <li> If the pressure increases between consecutive readings, the robot is descending and the output should be (-1). </li>\n",
    "            <li> If the pressure decreases, the robot is ascending and the output should be (+1). </li>\n",
    "            <li> If the pressure remains constant, it means no movement and the output should be (0). </li>\n",
    "        </ul>\n",
    "        <li> Append each movement status (-1 ,1 or 0) to a NumPy array called <code>movement_status</code>. </li>\n",
    "        <li> Print both the original pressure readings and the movement status for each reading, except for the first one (as there's no previous data to compare).\n",
    "</ol>\n",
    "\n",
    "</div>"
   ]
  },
  {
   "cell_type": "code",
   "execution_count": 46,
   "metadata": {},
   "outputs": [],
   "source": [
    "def track_robot_movement(pressure_readings):\n",
    "    # Create an empty NumPy array to store movement status (-1, +1, 0)\n",
    "    movement_status = np.array([])\n",
    "\n",
    "    # Iterate through the pressure readings (starting from the second reading)\n",
    "    for index, pressure in enumerate(pressure_readings[1:], start=1):\n",
    "        # Compare the current pressure with the previous one\n",
    "        previous_pressure = pressure_readings[index - 1]\n",
    "        if pressure > previous_pressure:\n",
    "            status = -1  # Descending\n",
    "        elif pressure < previous_pressure:\n",
    "            status = +1  # Ascending\n",
    "        else:\n",
    "            status = 0   # No change\n",
    "        \n",
    "        # Append the status to the movement_status array\n",
    "        movement_status = np.append(movement_status, status)\n",
    "\n",
    "    # Output the original pressure readings\n",
    "    print(\"Original Pressure Readings:\")\n",
    "    for index, pressure in enumerate(pressure_readings):\n",
    "        print(f\"Index {index}: {pressure} Pa\")\n",
    "\n",
    "    # Output the movement status with their indices\n",
    "    print(\"\\nMovement Status:\")\n",
    "    for index, status in enumerate(movement_status, start=1):\n",
    "        direction = \"Descending\" if status == -1 else \"Ascending\" if status == 1 else \"No change\"\n",
    "        print(f\"Index {index}: {status} ({direction})\")"
   ]
  },
  {
   "cell_type": "code",
   "execution_count": 47,
   "metadata": {},
   "outputs": [
    {
     "name": "stdout",
     "output_type": "stream",
     "text": [
      "[[9 0 4 8 0]\n",
      " [3 1 6 8 2]\n",
      " [5 4 2 3 6]\n",
      " [6 1 6 7 9]\n",
      " [4 4 5 4 6]]\n",
      "9.0\n",
      "[9. 0. 0. 4. 0. 2. 8. 0. 3. 6. 1. 2. 8. 1. 3. 5. 2. 0. 4. 2. 1. 6. 2. 4.\n",
      " 6. 3. 0. 6. 3. 2. 7. 3. 3. 9. 3. 4. 4. 4. 0. 4. 4. 1. 5. 4. 2. 4. 4. 3.\n",
      " 6. 4. 4.]\n",
      "[[9. 0. 0.]\n",
      " [4. 0. 2.]\n",
      " [8. 0. 3.]\n",
      " [6. 1. 2.]\n",
      " [8. 1. 3.]\n",
      " [5. 2. 0.]\n",
      " [4. 2. 1.]\n",
      " [6. 2. 4.]\n",
      " [6. 3. 0.]\n",
      " [6. 3. 2.]\n",
      " [7. 3. 3.]\n",
      " [9. 3. 4.]\n",
      " [4. 4. 0.]\n",
      " [4. 4. 1.]\n",
      " [5. 4. 2.]\n",
      " [4. 4. 3.]\n",
      " [6. 4. 4.]]\n",
      "[[np.int64(9), 0, 0], [np.int64(4), 0, 2], [np.int64(8), 0, 3], [np.int64(6), 1, 2], [np.int64(8), 1, 3], [np.int64(5), 2, 0], [np.int64(4), 2, 1], [np.int64(6), 2, 4], [np.int64(6), 3, 0], [np.int64(6), 3, 2], [np.int64(7), 3, 3], [np.int64(9), 3, 4], [np.int64(4), 4, 0], [np.int64(4), 4, 1], [np.int64(5), 4, 2], [np.int64(4), 4, 3], [np.int64(6), 4, 4]]\n",
      "9\n",
      "0\n",
      "6\n",
      "[[np.int64(9), 0, 0], [np.int64(4), 0, 2], [np.int64(8), 0, 3], [np.int64(6), 1, 2], [np.int64(8), 1, 3], [np.int64(5), 2, 0], [np.int64(4), 2, 1], [np.int64(6), 2, 4], [np.int64(6), 3, 0], [np.int64(6), 3, 2], [np.int64(7), 3, 3], [np.int64(9), 3, 4], [np.int64(4), 4, 0], [np.int64(4), 4, 1], [np.int64(5), 4, 2], [np.int64(4), 4, 3], [np.int64(6), 4, 4]]\n"
     ]
    }
   ],
   "source": [
    "# Create a 5x5 dense matrix\n",
    "dense_matrix = np.random.randint(0, 10, (5, 5))\n",
    "print(dense_matrix)\n",
    "\n",
    "# Initialize a list to store the sparse matrix elements\n",
    "sparse_matrix_elements = []\n",
    "test = []\n",
    "test2 = []\n",
    "\n",
    "# Iterate through the dense matrix\n",
    "for i, row in enumerate(dense_matrix):\n",
    "    for j, element in enumerate(row):\n",
    "        if element > 3:\n",
    "            sparse_matrix_elements = np.append(sparse_matrix_elements, [element, i, j])\n",
    "            test.append([element, i, j])\n",
    "            test2 += [[element, i, j]]\n",
    "            # möglichkeit ohne reshape?\n",
    "\n",
    "\n",
    "# Print the sparse matrix representation\n",
    "print(sparse_matrix_elements[0])\n",
    "print(sparse_matrix_elements)\n",
    "sparse_matrix_elements = sparse_matrix_elements.reshape(-1, 3)\n",
    "print(sparse_matrix_elements)\n",
    "\n",
    "print(test)\n",
    "print(test[0][0])\n",
    "print(test[1][1])\n",
    "print(test[-1][0])\n",
    "print(test2)\n",
    "\n",
    "\n"
   ]
  },
  {
   "cell_type": "code",
   "execution_count": 48,
   "metadata": {},
   "outputs": [
    {
     "name": "stdout",
     "output_type": "stream",
     "text": [
      "Original Temperatures:\n",
      "Index 0: 12°C\n",
      "Index 1: 8°C\n",
      "Index 2: 37°C\n",
      "Index 3: 15°C\n",
      "Index 4: 40°C\n",
      "\n",
      "Modified Temperatures:\n",
      "Index 0: 12.0°C\n",
      "Index 1: 13.0°C\n",
      "Index 2: 32.0°C\n",
      "Index 3: 15.0°C\n",
      "Index 4: 35.0°C\n"
     ]
    }
   ],
   "source": [
    "def modify_temperatures(temperatures):\n",
    "    # Create an empty NumPy array to store modified temperatures\n",
    "    modified_temps = np.array([])\n",
    "\n",
    "    # Loop through the original temperatures using enumerate\n",
    "    for index, temp in enumerate(temperatures):\n",
    "        # Modify the temperature based on the conditions\n",
    "        if temp < 10:\n",
    "            modified_temp = temp + 5\n",
    "        elif temp > 35:\n",
    "            modified_temp = temp - 5\n",
    "        else:\n",
    "            modified_temp = temp\n",
    "        \n",
    "        # Append the modified temperature to the new array\n",
    "        modified_temps = np.append(modified_temps, modified_temp)\n",
    "\n",
    "    # Output the original and modified temperatures with their indices\n",
    "    print(\"Original Temperatures:\")\n",
    "    for index, temp in enumerate(temperatures):\n",
    "        print(f\"Index {index}: {temp}°C\")\n",
    "\n",
    "    print(\"\\nModified Temperatures:\")\n",
    "    for index, temp in enumerate(modified_temps):\n",
    "        print(f\"Index {index}: {temp}°C\")\n",
    "\n",
    "# Example usage:\n",
    "temperatures = [12, 8, 37, 15, 40]\n",
    "modify_temperatures(temperatures)"
   ]
  },
  {
   "cell_type": "markdown",
   "metadata": {},
   "source": [
    "###  how to code? Plan steps, consider working your way up by starting with simpler problem, write sufficient comments (abschließender Tipp am ENde)"
   ]
  },
  {
   "cell_type": "markdown",
   "metadata": {},
   "source": [
    "## am Ende nochmal Übersicht von allen Rechenoperationen, KOnventionen etc erneuter Verweis auf Numpz for Matlab users"
   ]
  },
  {
   "cell_type": "markdown",
   "metadata": {},
   "source": [
    "***\n",
    "other\n",
    "- objektorientierte programmierung\n",
    "- callback(listener)\n",
    "- als aufgabe 0 integrieren\n",
    "- referenz auf objekte (beispiel vielleicht)\n",
    "- Funktionen deklarieren\n",
    "- reshape doch mit reinnehmen, da in assignment 2?\n",
    "- pip install numpy"
   ]
  },
  {
   "cell_type": "code",
   "execution_count": 49,
   "metadata": {},
   "outputs": [
    {
     "name": "stdout",
     "output_type": "stream",
     "text": [
      "Next Element: (0, 'apple')\n",
      "Next Element: (1, 'banana')\n"
     ]
    }
   ],
   "source": [
    "\n",
    "\n",
    "fruits = ['apple', 'banana', 'cherry']\n",
    "enum_fruits = enumerate(fruits)\n",
    " \n",
    "next_element = next(enum_fruits)\n",
    "print(f\"Next Element: {next_element}\")\n",
    "\n",
    "next_element2 = next(enum_fruits)\n",
    "print(f\"Next Element: {next_element2}\")\n"
   ]
  },
  {
   "cell_type": "code",
   "execution_count": 50,
   "metadata": {},
   "outputs": [
    {
     "name": "stdout",
     "output_type": "stream",
     "text": [
      "[(0, [1, 2, 3]), (1, [4, 5, 6]), (2, [7, 8, 9])]\n",
      "Matrix[0][0] = 1\n",
      "Matrix[0][1] = 2\n",
      "Matrix[0][2] = 3\n",
      "Matrix[1][0] = 4\n",
      "Matrix[1][1] = 5\n",
      "Matrix[1][2] = 6\n",
      "Matrix[2][0] = 7\n",
      "Matrix[2][1] = 8\n",
      "Matrix[2][2] = 9\n"
     ]
    }
   ],
   "source": [
    "matrix = [\n",
    "    [1, 2, 3],\n",
    "    [4, 5, 6],\n",
    "    [7, 8, 9]\n",
    "]\n",
    "print(list(enumerate(matrix)))\n",
    "\n",
    "for i, col in enumerate(matrix):\n",
    "    for j, value in enumerate(col):\n",
    "        print(f\"Matrix[{i}][{j}] = {value}\")\n"
   ]
  }
 ],
 "metadata": {
  "kernelspec": {
   "display_name": "Python 3",
   "language": "python",
   "name": "python3"
  },
  "language_info": {
   "codemirror_mode": {
    "name": "ipython",
    "version": 3
   },
   "file_extension": ".py",
   "mimetype": "text/x-python",
   "name": "python",
   "nbconvert_exporter": "python",
   "pygments_lexer": "ipython3",
   "version": "3.12.3"
  }
 },
 "nbformat": 4,
 "nbformat_minor": 2
}
