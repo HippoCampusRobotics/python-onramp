{
 "cells": [
  {
   "cell_type": "markdown",
   "metadata": {},
   "source": [
    "# Introducction to Python, Numpy & some useful tips\n",
    "\n",
    "This notebook serves as a mini-tutorial to introduce Python and some of the libraries and tools used in this course. You will encounter many of them repeatedly in the following assignments.<br>\n",
    "\n",
    "In this notebook, there are text blocks and code blocks, with the code blocks providing a way to code directly within the text. Everything within them is just regular Python code.\n",
    "<div class=\"alert alert-block alert-info\">\n",
    "The blue boxes are <b>info</b> boxes. They usually contain additional knowledge or tips that are not necessarily relevant for completing the tasks in the notebook.\n",
    "</div> \n",
    "<div class=\"alert alert-block alert-warning\">\n",
    "The orange boxes always indicate <b>short tasks</b>. Below them, you will usually find empty code blocks where you should complete the tasks.\n",
    "</div>"
   ]
  },
  {
   "cell_type": "code",
   "execution_count": 35,
   "metadata": {
    "metadata": {}
   },
   "outputs": [],
   "source": [
    "# Code & Conquer\n",
    "# Unleash your inner coding warrior and dominate the digital realm one line of Python at a time!"
   ]
  },
  {
   "cell_type": "markdown",
   "metadata": {},
   "source": [
    "***"
   ]
  },
  {
   "cell_type": "markdown",
   "metadata": {},
   "source": [
    "## 1. \"Hello, World!\" ##\n",
    "But let's start with the basics. This is what “Hello, World!” would look like in Python:"
   ]
  },
  {
   "cell_type": "code",
   "execution_count": 36,
   "metadata": {
    "metadata": {}
   },
   "outputs": [
    {
     "name": "stdout",
     "output_type": "stream",
     "text": [
      "Hello, World!\n"
     ]
    }
   ],
   "source": [
    "print(\"Hello, World!\")"
   ]
  },
  {
   "cell_type": "markdown",
   "metadata": {},
   "source": [
    "Easy peasy!\n",
    "\n",
    "## 2. Declaring variables and their handling \n",
    "\n",
    "### 2.1 Declaring variables\n",
    "\n",
    "Unlike in many other programming languages, no variable types need to be declared in Python. The data type is only determined by assigning a value:"
   ]
  },
  {
   "cell_type": "code",
   "execution_count": 37,
   "metadata": {
    "metadata": {}
   },
   "outputs": [
    {
     "name": "stdout",
     "output_type": "stream",
     "text": [
      "a is of type:  <class 'int'>  with the value:  2\n",
      "b is of type:  <class 'str'>  with the value:  I want 1000 BlueROVS\n"
     ]
    }
   ],
   "source": [
    "a = 2\n",
    "b = 'I want 1000 BlueROVS'\n",
    "print('a is of type: ', type(a), ' with the value: ', a)\n",
    "print('b is of type: ', type(b), ' with the value: ', b)"
   ]
  },
  {
   "cell_type": "markdown",
   "metadata": {},
   "source": [
    "\n",
    "__Pro Tip: F-Strings__ <br> Usually, it's better to use F-Strings, also known as format strings, because they allow you to directly embed variables or expressions within the string, unlike traditional strings: <br>\n",
    "\n",
    "<code> print(f'a is of type: {type(a)} with the value {a}') </code><br>\n",
    "\n",
    "The big advantage is that <b>single quotes ''</b> only appear once, and variables can be referenced using <b> curly braces {}</b>.\n",
    "\n",
    "<div class=\"alert alert-block alert-warning\"> <b>🔽 Your Turn: 🔽</b> <br><br>\n",
    "Try using <b>F-Strings</b> in the code block right below, initialize different variable types, and see what happens when you run the script again. <br> You can either click on <b>\"Run All\"</b> in the navigation above,<br> <left><img src=\"figures/excecuteall.png\" width=\"300\"><br> or on the <b>triangle ▷ on the left</b> next to the code block itself :D<br> <left><img src=\"figures/excecutecell.png\" width=\"200\"> </div>"
   ]
  },
  {
   "cell_type": "code",
   "execution_count": 38,
   "metadata": {
    "metadata": {}
   },
   "outputs": [],
   "source": [
    "# Python Playground"
   ]
  },
  {
   "cell_type": "markdown",
   "metadata": {},
   "source": [
    "### 2.2 Arithmetic operations\n",
    "\n",
    "work in the same way as in most programming languages with\n",
    " - addition `+`\n",
    " - subtraction `-`\n",
    " - multiplication `*`\n",
    " - division `/`."
   ]
  },
  {
   "cell_type": "code",
   "execution_count": 39,
   "metadata": {
    "metadata": {}
   },
   "outputs": [
    {
     "name": "stdout",
     "output_type": "stream",
     "text": [
      "18\n"
     ]
    }
   ],
   "source": [
    "# With ** you can raise values to a power\n",
    "\n",
    "solution = 3**2 * 2\n",
    "print(solution)"
   ]
  },
  {
   "cell_type": "markdown",
   "metadata": {},
   "source": [
    "So much for the basics.\n",
    "## 3. ✨ Numpy ✨ ##\n",
    "<div class=\"alert alert-block alert-info\">\n",
    "<b>You have already worked with Matlab before? </b> In that case the following website could be quite helpful for you <a href=\"https://numpy.org/doc/stable/user/numpy-for-matlab-users.html\">NumPy for Matlab Users</a> <br>\n",
    "Equivalent code examples are listed here in tabular form and the relevant differences between the two languages are highlighted.\n",
    "</div>\n",
    "\n",
    "Unlike many other programming languages, Python's standard library does not provide explicit array data types. Instead, lists are typically used to represent arrays.\n",
    "\n",
    "That’s why we have <b><code>NumPy</code></b> (Numerical Python), an additional library that we will use in this course. It is particularly useful when dealing with large datasets, as operations are executed faster and memory is used more efficiently. Additionally, <code>NumPy</code> offers an extensive library of functions for statistical, algebraic, and mathematical operations on arrays, which eliminates the need for explicit loops in many cases and makes the code cleaner and faster.\n",
    "\n",
    "<div class=\"alert alert-block alert-info\"> There is very detailed documentation online on all the functionalities of the library elements with code examples. It is generally worthwhile to quickly check the documentation if you're unsure about the syntax or input variables, or if you're looking for a specific element.<br> <a href=\"https://numpy.org/doc/stable/reference/routines.array-creation.html\">NumPy Documentation</a> <br> Alternatively, you can also hover your mouse over the function to see possible inputs for the function. </div></br>\n",
    "To take full advantage of NumPy, we first need to import it:"
   ]
  },
  {
   "cell_type": "code",
   "execution_count": 40,
   "metadata": {
    "metadata": {}
   },
   "outputs": [],
   "source": [
    "import numpy"
   ]
  },
  {
   "cell_type": "markdown",
   "metadata": {},
   "source": [
    "You only need this line of code once within a document, and it is usually written right at the beginning. <br>\n",
    "Now, we can get started:"
   ]
  },
  {
   "cell_type": "code",
   "execution_count": 41,
   "metadata": {
    "metadata": {}
   },
   "outputs": [],
   "source": [
    "# Simple NumPy array in row form\n",
    "row_vector = numpy.array([1, 2, 3, 4, 5])\n",
    "\n",
    "# Defining matrices\n",
    "matrix1 = numpy.array([[1, 2, 3], [4, 5, 6], [7, 8, 9]])\n",
    "matrix2 = numpy.array([[1, 0], [0, 0]])"
   ]
  },
  {
   "cell_type": "markdown",
   "metadata": {},
   "source": [
    "<div class=\"alert alert-block alert-warning\"> \n",
    "<b>🔽 Your Turn: 🔽</b><br>\n",
    "With <b>@</b> you can <b>multiply matrices</b>. Try it out below by defining a new <code>matrix3</code> of appropriate size, and then multiply it with <code>matrix1</code>. \n",
    "</div>"
   ]
  },
  {
   "cell_type": "code",
   "execution_count": 42,
   "metadata": {
    "metadata": {}
   },
   "outputs": [],
   "source": [
    "# Python Playground"
   ]
  },
  {
   "cell_type": "markdown",
   "metadata": {},
   "source": [
    "__Pro Tip: Using Libraries Properly__ <br>\n",
    "You’ve probably noticed that every element from the NumPy library above is always prefixed with <code>numpy.</code>. That seems a bit annoying in the long run, right? <br>\n",
    "There’s an __easier__ way by using:\n",
    "\n",
    "<code>import numpy as np</code>,<br>\n",
    "\n",
    "where <code>np</code> (theoretically) can be replaced by any other abbreviation or \"alias.\" From then on, you can access the library more easily: <code>np.name</code>\n",
    "\n",
    "<div class=\"alert alert-block alert-warning\"> \n",
    "<b>🔽 Your Turn: 🔽</b><br>\n",
    "Import <code>numpy</code> using the alias <code>np</code>!\n",
    "</div>"
   ]
  },
  {
   "cell_type": "code",
   "execution_count": 43,
   "metadata": {
    "metadata": {}
   },
   "outputs": [],
   "source": [
    "# Python Playground\n",
    "\n",
    "import numpy as np # remove this at the end\n"
   ]
  },
  {
   "cell_type": "markdown",
   "metadata": {},
   "source": [
    "<div class=\"alert alert-block alert-info\"> \n",
    "If you only need to access specific elements of a library, it can be useful to import them explicitly: <br>\n",
    "<code>from numpy import sinc, pi</code> In this case, <code>sinc()</code> (sine function) and <code>pi</code>. The big advantage is that <code>sinc()</code> and <code>pi</code> can now be called directly without needing the library name.\n",
    "</div> \n",
    "<div class=\"alert alert-block alert-warning\">\n",
    "<b>🔽 Your Turn: 🔽</b> <br>\n",
    "Calculate the inverse of the following matrix.<br>\n",
    "Check the online documentation for NumPy for help: <a href=\"https://numpy.org/doc/stable/reference/routines.array-creation.html\">NumPy Documentation</a> <br>\n",
    "</div>"
   ]
  },
  {
   "cell_type": "code",
   "execution_count": 44,
   "metadata": {
    "metadata": {}
   },
   "outputs": [
    {
     "name": "stdout",
     "output_type": "stream",
     "text": [
      "A = [[0.8284832  0.21424588 0.10892198]\n",
      " [0.75770026 0.07764152 0.63115267]\n",
      " [0.32065278 0.2397215  0.04872646]]\n",
      "the inverse of A is A_inv = [[0.8284832  0.21424588 0.10892198]\n",
      " [0.75770026 0.07764152 0.63115267]\n",
      " [0.32065278 0.2397215  0.04872646]]\n"
     ]
    }
   ],
   "source": [
    "# python playground\n",
    "\n",
    "# np.random.rand(rows, cols) generates a random matrix of a defined size\n",
    "A = np.random.rand(3,3)\n",
    "print(f'A = {A}')\n",
    "\n",
    "A_inv = A # this doesn't seem right yet\n",
    "print(f'the inverse of A is A_inv = {A_inv}')"
   ]
  },
  {
   "cell_type": "markdown",
   "metadata": {},
   "source": [
    "Now that we’ve teased the **powerful tools** of NumPy, it doesn’t seem all that impressive just yet. So, here’s a tiny selection to showcase its capabilities:"
   ]
  },
  {
   "cell_type": "code",
   "execution_count": 45,
   "metadata": {
    "metadata": {}
   },
   "outputs": [
    {
     "name": "stdout",
     "output_type": "stream",
     "text": [
      "The first element in matrix1 is 1 and is accessed with index 0\n",
      "The last element in matrix1 is 9 or 9\n"
     ]
    }
   ],
   "source": [
    "# ARRAY WITH ZEROS OF DIMENSION 2X3\n",
    "zero_matrix = np.zeros((2, 3))\n",
    "\n",
    "# ARRAY WITH ONES OF DIMENSION 2X4\n",
    "ones_matrix = np.ones((2, 4))\n",
    "\n",
    "# ARRAY WITH ONES ON THE DIAGONAL AND ZEROS ELSEWHERE\n",
    "eye_matrix = np.eye(3, 3)\n",
    "\n",
    "# ARRAY OF A CERTAIN SIZE WITH UNINITIALIZED ENTRIES\n",
    "empty_matrix = np.empty((2, 3))\n",
    "\n",
    "# ARRAY WITH 50 EQUALLY SPACED VALUES BETWEEN 0 AND 5\n",
    "t = np.linspace(0, 5, 50)\n",
    "\n",
    "# ACCESSING INDIVIDUAL ELEMENTS\n",
    "print(f'The first element in matrix1 is {matrix1[0, 0]} and is accessed with index 0')\n",
    "print(f'The last element in matrix1 is {matrix1[-1, -1]} or {matrix1[2, 2]}')\n",
    "\n"
   ]
  },
  {
   "cell_type": "code",
   "execution_count": 46,
   "metadata": {},
   "outputs": [
    {
     "name": "stdout",
     "output_type": "stream",
     "text": [
      "the elementwise multiplication of matrix1 and eye_matrix is [[1. 0. 0.]\n",
      " [0. 5. 0.]\n",
      " [0. 0. 9.]]\n"
     ]
    }
   ],
   "source": [
    "\n",
    "# ELEMENTWISE MULTIPLICATION\n",
    "print(f'the elementwise multiplication of matrix1 and eye_matrix is {matrix1*eye_matrix}')\n",
    "    #(as a reminder: regular matrix multiplication with @)"
   ]
  },
  {
   "cell_type": "code",
   "execution_count": 47,
   "metadata": {},
   "outputs": [
    {
     "name": "stdout",
     "output_type": "stream",
     "text": [
      "[[ 1  2  3]\n",
      " [ 4  5  6]\n",
      " [ 7  8  9]\n",
      " [10 11 12]]\n"
     ]
    }
   ],
   "source": [
    "# APPEND\n",
    "    # create a new row array\n",
    "new_row = np.array([[10, 11, 12]])\n",
    "    # append new_row to Matrix1\n",
    "print(np.append(matrix1, new_row, axis=0)) \n",
    "    # “axis=0” defines the axis along which new elements are to be added\n",
    "    # if this argument is omitted, the entire array is “flattened” into a single row vector"
   ]
  },
  {
   "cell_type": "markdown",
   "metadata": {},
   "source": [
    "## 4. **if else** and **for loops**\n",
    "\n",
    "### 4.1 **if else**\n",
    "\n",
    "In Python, if-else conditions allow different blocks of code to be executed based on the truth of a condition. While `if else` makes it clear that only one of the two blocks will be executed, multiple independent `if` conditions result in each condition being checked separately. This can be more inefficient in certain cases.\n",
    "Here is a simple example of `if else` that checks whether a number is positive, negative or zero:"
   ]
  },
  {
   "cell_type": "code",
   "execution_count": 48,
   "metadata": {},
   "outputs": [
    {
     "name": "stdout",
     "output_type": "stream",
     "text": [
      "the number 10 is positive\n"
     ]
    }
   ],
   "source": [
    "number = 10\n",
    "\n",
    "if number > 0:\n",
    "    print(f'the number {number} is positive')\n",
    "elif number < 0:\n",
    "    print(f'the number {number} is negative')\n",
    "else:\n",
    "    print(f'the number {number} is negative or zero')"
   ]
  },
  {
   "cell_type": "markdown",
   "metadata": {},
   "source": [
    "The `elif` stands for `else if` and can theoretically be used as often as you like.\n",
    "\n",
    "### 4.2 **for loops**\n",
    "\n",
    "In Pyhton, `for` loops iterate over lists/arrays, which is why the syntax usually looks like this:"
   ]
  },
  {
   "cell_type": "code",
   "execution_count": 49,
   "metadata": {},
   "outputs": [
    {
     "name": "stdout",
     "output_type": "stream",
     "text": [
      "a\n",
      "big\n",
      "water\n",
      "tank\n"
     ]
    }
   ],
   "source": [
    "words = np.array((['a', 'big', 'water', 'tank']))\n",
    "\n",
    "for i in words:\n",
    "    print(i)\n"
   ]
  },
  {
   "cell_type": "markdown",
   "metadata": {},
   "source": [
    "If you want to iterate over a numerical sequence with a starting and ending value, you can simply do so using `for i in range(startwert, endwert): ...`.\n",
    "\n",
    "### 4.3 **enumerate**\n",
    "Mit `enumerate` kann man Elemente aus einem Array bzw. aus einer Liste nummerieren und diese in einem neuen Array/Liste als Tupel abspeichern."
   ]
  },
  {
   "cell_type": "code",
   "execution_count": 53,
   "metadata": {},
   "outputs": [
    {
     "name": "stdout",
     "output_type": "stream",
     "text": [
      "[(0, np.str_('a')), (1, np.str_('big')), (2, np.str_('water')), (3, np.str_('tank'))]\n",
      "[(2, np.str_('a')), (3, np.str_('big')), (4, np.str_('water')), (5, np.str_('tank'))]\n",
      "0 a\n",
      "1 big\n",
      "2 water\n",
      "3 tank\n"
     ]
    }
   ],
   "source": [
    "words_enum = enumerate(words)\n",
    "print(list(words_enum))\n",
    "# start the enumeration at 2 (default is 0)\n",
    "print(list(enumerate(words, 2)))\n",
    "\n",
    "l1 = list(words_enum)\n",
    "\n",
    "\n",
    "# Iteration and accessing the first tuple\n",
    "for index, word in enumerate(words):\n",
    "    print(index, word)\n"
   ]
  },
  {
   "cell_type": "markdown",
   "metadata": {},
   "source": [
    "enumerate und append verbinden mit if und for (Aufgabe für Studis)"
   ]
  },
  {
   "cell_type": "markdown",
   "metadata": {},
   "source": [
    "**Pro Tip: list comprehensions**\n",
    "\n",
    "+ kleine Aufgabe"
   ]
  },
  {
   "cell_type": "markdown",
   "metadata": {},
   "source": [
    "###  how to code? Plan steps, consider working your way up by starting with simpler problem, write sufficient comments (abschließender Tipp am ENde)"
   ]
  },
  {
   "cell_type": "markdown",
   "metadata": {},
   "source": [
    "## am Ende nochmal Übersicht von allen Rechenoperationen, KOnventionen etc erneuter Verweis auf Numpz for Matlab users"
   ]
  },
  {
   "cell_type": "markdown",
   "metadata": {},
   "source": [
    "***\n",
    "other\n",
    "- objektorientierte programmierung\n",
    "- callback(listener)\n",
    "- als aufgabe 0 integrieren\n",
    "- referenz auf objekte (beispiel vielleicht)\n",
    "- Funktionen deklarieren\n",
    "- reshape doch mit reinnehmen, da in assignment 2?\n",
    "- pip install numpy"
   ]
  },
  {
   "cell_type": "code",
   "execution_count": 51,
   "metadata": {},
   "outputs": [
    {
     "name": "stdout",
     "output_type": "stream",
     "text": [
      "Next Element: (0, 'apple')\n",
      "Next Element: (1, 'banana')\n"
     ]
    }
   ],
   "source": [
    "\n",
    "\n",
    "fruits = ['apple', 'banana', 'cherry']\n",
    "enum_fruits = enumerate(fruits)\n",
    " \n",
    "next_element = next(enum_fruits)\n",
    "print(f\"Next Element: {next_element}\")\n",
    "\n",
    "next_element2 = next(enum_fruits)\n",
    "print(f\"Next Element: {next_element2}\")\n"
   ]
  },
  {
   "cell_type": "code",
   "execution_count": 52,
   "metadata": {},
   "outputs": [
    {
     "name": "stdout",
     "output_type": "stream",
     "text": [
      "[(0, [1, 2, 3]), (1, [4, 5, 6]), (2, [7, 8, 9])]\n",
      "Matrix[0][0] = 1\n",
      "Matrix[0][1] = 2\n",
      "Matrix[0][2] = 3\n",
      "Matrix[1][0] = 4\n",
      "Matrix[1][1] = 5\n",
      "Matrix[1][2] = 6\n",
      "Matrix[2][0] = 7\n",
      "Matrix[2][1] = 8\n",
      "Matrix[2][2] = 9\n"
     ]
    }
   ],
   "source": [
    "matrix = [\n",
    "    [1, 2, 3],\n",
    "    [4, 5, 6],\n",
    "    [7, 8, 9]\n",
    "]\n",
    "print(list(enumerate(matrix)))\n",
    "\n",
    "for i, col in enumerate(matrix):\n",
    "    for j, value in enumerate(col):\n",
    "        print(f\"Matrix[{i}][{j}] = {value}\")\n"
   ]
  }
 ],
 "metadata": {
  "kernelspec": {
   "display_name": "Python 3",
   "language": "python",
   "name": "python3"
  },
  "language_info": {
   "codemirror_mode": {
    "name": "ipython",
    "version": 3
   },
   "file_extension": ".py",
   "mimetype": "text/x-python",
   "name": "python",
   "nbconvert_exporter": "python",
   "pygments_lexer": "ipython3",
   "version": "3.12.3"
  }
 },
 "nbformat": 4,
 "nbformat_minor": 2
}
