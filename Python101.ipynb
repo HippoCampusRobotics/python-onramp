{
 "cells": [
  {
   "cell_type": "markdown",
   "metadata": {},
   "source": [
    "# Einführung in Python, Numpy und ein paar Tipps\n",
    "\n",
    "Dieses Notebook soll als Mini-Tutorial eine Einführung in Python und einige in diesem Kurs verwendete Libraries und Tools geben. Vielen davon wirst du in nachfolgendem Assignments immer wieder begegnen.<br>\n",
    "\n",
    "Grundätzlich gibt es Textblöcke und Codeblöcke, wobei die Codeblöcke eine in Text eingebettete Möglichkeit zum Coden bieten. Alles was in ihnen steht, ist ganz normaler Python-Code.\n",
    "<div class=\"alert alert-block alert-info\">\n",
    "Die <b>blauen Kästen</b> sind Infokästen. Meist handelt es sich hier um weiterführendes Wissen oder Hinweise, die aber nicht unbedingt relevant für die Bearbeitung der Aufgaben innerhalb des Notebooks sind.\n",
    "</div>\n",
    "<div class=\"alert alert-block alert-warning\">\n",
    "Die <b>orangenen Kästen</b> sind immer Hinweise auf Kurzaufgaben. Unter ihnen befinden sich i.d.R. freie Codeblöcke, innerhalb welcher Aufgaben bearbeitet werden sollen.\n",
    "</div>"
   ]
  },
  {
   "cell_type": "code",
   "execution_count": 130,
   "metadata": {
    "metadata": {}
   },
   "outputs": [],
   "source": [
    "# Code-Spielplatz\n",
    "# in diesen Codeblocks direkt unter den orangenen Blöcken kannst du dich austoben"
   ]
  },
  {
   "cell_type": "markdown",
   "metadata": {},
   "source": [
    "***"
   ]
  },
  {
   "cell_type": "markdown",
   "metadata": {},
   "source": [
    "## 1. \"Hello, World!\" ##\n",
    "Aber beginnen wir mal bei den Basics. So würde beispielsweise \"Hello, World!\" in Python aussehen:"
   ]
  },
  {
   "cell_type": "code",
   "execution_count": 131,
   "metadata": {
    "metadata": {}
   },
   "outputs": [
    {
     "name": "stdout",
     "output_type": "stream",
     "text": [
      "Hello, World!\n"
     ]
    }
   ],
   "source": [
    "print(\"Hello, World!\")"
   ]
  },
  {
   "cell_type": "markdown",
   "metadata": {},
   "source": [
    "Ziemlich einfach oder?\n",
    "\n",
    "## 2. Variablen deklarieren und deren Handling \n",
    "\n",
    "### 2.1 Variablen deklarieren\n",
    "\n",
    "Anders als in vielen anderen Programmiersprachen müssen in Python keine Variablentypen deklariert werden. der Datentyp wird erst durch das zuweisen eines Wertes bestimmt:"
   ]
  },
  {
   "cell_type": "code",
   "execution_count": 132,
   "metadata": {
    "metadata": {}
   },
   "outputs": [
    {
     "name": "stdout",
     "output_type": "stream",
     "text": [
      "a ist vom Typ:  <class 'int'>  mit dem Wert:  2\n",
      "b ist vom Typ:  <class 'str'>  mit dem Wert:  Ich möchte 1000 BlueROVS\n"
     ]
    }
   ],
   "source": [
    "a = 2\n",
    "b = 'Ich möchte 1000 BlueROVS'\n",
    "print('a ist vom Typ: ', type(a), ' mit dem Wert: ', a)\n",
    "print('b ist vom Typ: ', type(b), ' mit dem Wert: ', b)"
   ]
  },
  {
   "cell_type": "markdown",
   "metadata": {},
   "source": [
    "\n",
    "__Pro Tipp: F-Strings__ <br> Meistens ist es besser, mit sogenannten F-Strings, auch Format-Strings genannt, zu arbeiten, da diese im Vergleich zu den herkömmlichen Strings u.a. das direkte Einbinden von Variablen oder Ausdrücken innerhalb des Strings erlauben: <br>\n",
    "\n",
    "<code> print(f'a ist vom Typ: {type(a)} mit dem Wert {a}') </code><br>\n",
    "\n",
    "Der große Vorteil ist, dass **single quotes** nur einmal vorkommen und auf Variablen mit **geschweiften Klammern** verwiesen werden kann.\n",
    "\n",
    "<div class=\"alert alert-block alert-warning\">\n",
    "<b>🔽 Jetzt Du: 🔽</b> <br>\n",
    "Probiere in dem Codeblock direkt hier drunter <b>F-Strings</b> aus, initialisiere andere Variablentypen und schaue, was passiert, wenn du das Skript erneut ausführst. <br>\n",
    "Dafür kannst du entweder oben unter der Navigation auf <b>\"Run All\"</b> klicken,<br>\n",
    "<left><img src=\"figures/excecuteall.png\" width=\"300\"><br>\n",
    "oder auf das <b>Dreieck ▷ links</b> neben dem Codeblock selbst :D<br>\n",
    "<left><img src=\"figures/excecutecell.png\" width=\"200\">\n",
    "</div>"
   ]
  },
  {
   "cell_type": "code",
   "execution_count": 133,
   "metadata": {
    "metadata": {}
   },
   "outputs": [],
   "source": [
    "# Code-Spielplatz"
   ]
  },
  {
   "cell_type": "markdown",
   "metadata": {},
   "source": [
    "### 2.2 Rechenoperationen\n",
    "\n",
    "funktionieren genauso wie in den meisten Programmiersprachen mit\n",
    " - Addition `+`\n",
    " - Subtraktion `-`\n",
    " - Multiplikation `*`\n",
    " - Division `/`."
   ]
  },
  {
   "cell_type": "code",
   "execution_count": 134,
   "metadata": {
    "metadata": {}
   },
   "outputs": [
    {
     "name": "stdout",
     "output_type": "stream",
     "text": [
      "18\n"
     ]
    }
   ],
   "source": [
    "# mit ** kann man Werte exponentieren\n",
    "\n",
    "Ergebnis = 3**2 * 2\n",
    "print(Ergebnis)"
   ]
  },
  {
   "cell_type": "markdown",
   "metadata": {},
   "source": [
    "Soweit die Basics.\n",
    "## 3. ✨ Numpy ✨ ##\n",
    "<div class=\"alert alert-block alert-info\">\n",
    "<b>Du hast schonmal mit Matlab gearbeitet? </b> Dann könnte für dich folgende Website interessant sein: <a href=\"https://numpy.org/doc/stable/user/numpy-for-matlab-users.html\">NumPy for Matlab Users</a> <br>\n",
    "Hier werden tabellarisch äquivalente Codebeispiele aufgeührt und die relevanten Unterschiede beider Sprachen hervorgehoben.\n",
    "</div>\n",
    "Anders als in vielen anderen Programmiersprachen, bietet die Standardbibliothek von Python keine expliziten Array-Datentypen. Üblicherweise wird mit Listen gearbeitet, um Arrays darzustellen.\n",
    "Deshalb gibt es <b><code>NumPy</b></code> (Numerical Python), eine zusätzliche Bibliothek, die wir in diesem Kurs nutzen wollen. Sie eignet sich insbesondere beim Umgang mit großen Datenmengen, da Operationen schneller ausgeführt werden und Speicherplatz effizienter genutzt wird. Zudem bietet <code>NumPy</code> eine umfangreiche Funktionenbibliothek für statistische, algebraische und mathematische Operationen auf Arrays, was die Notwendigkeit von expliziten Schleifen in vielen Fällen eliminiert und den Code sauberer und schneller macht.\n",
    "\n",
    "<div class=\"alert alert-block alert-info\">\n",
    "Online gibt es eine sehr detaillierte Dokumentation über alle Funktionalitäten der Bibliothekselemente mit Codebeispielen. Grundsätzlich lohnt es sich oft, schnell in der Doku nachzuschauen, wenn man sich bei der Syntax oder Inputvariablen nicht sicher oder wenn man nach einem bestimmten Element sucht<br>\n",
    "<a href=\"https://numpy.org/doc/stable/reference/routines.array-creation.html\">NumPy Documentation</a> <br>\n",
    "Alternativ kann man auch mit der Maus über der Funktion fahren, dann sieht man mögliche Inputs der Funktion.\n",
    "</div>\n",
    "\n",
    "Damit wir alle Vorteile von Numpy nutzen können, müssen wir es erstmal importieren:"
   ]
  },
  {
   "cell_type": "code",
   "execution_count": 135,
   "metadata": {
    "metadata": {}
   },
   "outputs": [],
   "source": [
    "import numpy"
   ]
  },
  {
   "cell_type": "markdown",
   "metadata": {},
   "source": [
    "Diese Zeile Code braucht man innerhalb eines Dokuments nur einmal und man schreibt sie in der Regel ganz an den Anfang.<br>\n",
    "Jetzt können wir auch schon loslegen:"
   ]
  },
  {
   "cell_type": "code",
   "execution_count": 136,
   "metadata": {
    "metadata": {}
   },
   "outputs": [],
   "source": [
    "# einfacher NumPy Array in Zeilenform\n",
    "Zeilenvektor = numpy.array([1, 2, 3, 4, 5])\n",
    "\n",
    "# Matrizen definieren\n",
    "Matrix1 = numpy.array([[1, 2, 3], [4, 5, 6], [7, 8, 9]])\n",
    "Matrix2 = numpy.array([[1, 0], [0, 0]])"
   ]
  },
  {
   "cell_type": "markdown",
   "metadata": {},
   "source": [
    "</div>\n",
    "<div class=\"alert alert-block alert-warning\">\n",
    "<b>🔽 Jetzt Du: 🔽</b><br>\n",
    "Mit <b>@</b> kann man <b>Matrizen multiplizieren</b>. Probiere das unten mal aus, indem Du eine neue <code>Matrix3</code> entsprechender Größe definerst, um sie dann anschließend mit <code>Matrix1</code> zu multiplizieren.\n",
    "</div>"
   ]
  },
  {
   "cell_type": "code",
   "execution_count": 137,
   "metadata": {
    "metadata": {}
   },
   "outputs": [],
   "source": [
    "# Code-Spielplatz"
   ]
  },
  {
   "cell_type": "markdown",
   "metadata": {},
   "source": [
    "\n",
    "__Pro Tip: Libraries richtig benutzen__ <br> \n",
    "Dir ist bestimmt aufgefallen, dass oben vor allen Elementen aus der Numpy Bibliothek immer ein <code>numpy.</code> steht. Das scheint auf Dauer doch ein bisschen nervig oder?<br>\n",
    "Das geht __einfacher__ mit \n",
    "\n",
    "<code>import numpy as np</code>,<br>\n",
    "\n",
    "wobei <code>np</code> (theoretisch) auch durch beliebige andere Abkürzungen bzw. \"Alias\" ersetzt werden kann. Nachfolgend kann man auf die Bibliothek vereinfacht zugreifen: <code>np.name</code>\n",
    "\n",
    "<div class=\"alert alert-block alert-warning\">\n",
    "<b>🔽 Jetzt Du: 🔽</b><br>\n",
    "Importiere <code>numpy</code> unter dem Alias <code>np</code>!\n",
    "</div>"
   ]
  },
  {
   "cell_type": "code",
   "execution_count": 138,
   "metadata": {
    "metadata": {}
   },
   "outputs": [],
   "source": [
    "# Code-Spielplatz\n",
    "\n",
    "import numpy as np # wieder weg machen am Ende"
   ]
  },
  {
   "cell_type": "markdown",
   "metadata": {},
   "source": [
    "<div class=\"alert alert-block alert-info\">\n",
    "Wenn nur auf einzelne Elemente einer Bibliothek zugegriffen werden soll, kann es sinnvoll sein, diese explizit zu importieren: <br>\n",
    "<code>from numpy import sinc, pi</code> In diesem Fall <code>sinc()</code> (Sinus-Funktion) und <code>pi</code>. Der große Vorteil ist, dass <code>sinc()</code> und <code>pi</code> nun direkt aufgerufen werden können, ohne dass es den Namen der Bibliothek bedarf\n",
    "</div>\n",
    "\n",
    "<div class=\"alert alert-block alert-warning\">\n",
    "<b>🔽 Jetzt Du: 🔽</b> <br>\n",
    " Wie würde man die Inverse der folgenden Matrix berechnen?<br>\n",
    " Hinweis: online Doku über NumPy <a href=\"https://numpy.org/doc/stable/reference/routines.array-creation.html\">NumPy Documentation</a> <br>\n",
    "</div>"
   ]
  },
  {
   "cell_type": "code",
   "execution_count": 139,
   "metadata": {
    "metadata": {}
   },
   "outputs": [
    {
     "name": "stdout",
     "output_type": "stream",
     "text": [
      "A = [[0.9106921  0.40968204 0.22405833]\n",
      " [0.20839944 0.79802743 0.34206401]\n",
      " [0.0371613  0.87943682 0.21238706]]\n",
      "A invertiert ist A_inv = [[0.9106921  0.40968204 0.22405833]\n",
      " [0.20839944 0.79802743 0.34206401]\n",
      " [0.0371613  0.87943682 0.21238706]]\n"
     ]
    }
   ],
   "source": [
    "# Code-Spielplatz\n",
    "\n",
    "# np.random.rand(rows,col) generiert eine zufällige Matrix einer definierten Größe\n",
    "A = np.random.rand(3,3)\n",
    "print(f'A = {A}')\n",
    "\n",
    "A_inv = A # hier kann etwas noch nicht stimmen\n",
    "print(f'A invertiert ist A_inv = {A_inv}')"
   ]
  },
  {
   "cell_type": "markdown",
   "metadata": {},
   "source": [
    "Jetzt haben wir die **mächtigen Tools** von Numpy so angeteasert, aber das wirkt ja bisher noch nicht so wild. Also jetzt hier nachfolgend eine winzige Auswahl"
   ]
  },
  {
   "cell_type": "code",
   "execution_count": 140,
   "metadata": {
    "metadata": {}
   },
   "outputs": [
    {
     "name": "stdout",
     "output_type": "stream",
     "text": [
      "Das erste Element in Matrix1 ist 1 und wird mit dem Index 0 aufgerufen\n",
      "Der letzte Element in Matrix1 ist 9 bzw. 9\n"
     ]
    }
   ],
   "source": [
    "# ARRAY MIT NULLEN DER DIMENSION 2X3\n",
    "Nullmatrix = np.zeros((2, 3))\n",
    "\n",
    "# ARRAY MIT EINSEN DER DIMENSION 2X4\n",
    "Einsmatrix = np.ones((2, 4))\n",
    "\n",
    "# RRAY MIT EINSEN AUF DER DIAGONALEN UND SONST NULLEN\n",
    "Eye = np.eye(3,3)\n",
    "\n",
    "# ARRAY EINER BESTIMMTEN GRÖẞE OHNE INITIALISIERTE EINTRÄGE\n",
    "Empty = np.empty((2,3))\n",
    "\n",
    "# ARRAZ MIT 50 ÄQUIDISTANTEN WERTEN ZWISCHEN 0 UND 5\n",
    "t = np.linspace(0, 5, 50)\n",
    "\n",
    "# EINZELNE ELEMENTE AUSLESEN\n",
    "print(f'Das erste Element in Matrix1 ist {Matrix1[0,0]} und wird mit dem Index 0 aufgerufen')\n",
    "print(f'Der letzte Element in Matrix1 ist {Matrix1[-1,-1]} bzw. {Matrix1[2,2]}')\n"
   ]
  },
  {
   "cell_type": "code",
   "execution_count": 141,
   "metadata": {},
   "outputs": [
    {
     "name": "stdout",
     "output_type": "stream",
     "text": [
      "Die elementweise Multiplikation von Matrix1 und Eye ist [[1. 0. 0.]\n",
      " [0. 5. 0.]\n",
      " [0. 0. 9.]]\n"
     ]
    }
   ],
   "source": [
    "\n",
    "# ELEMENTWEISE MULTIPLIZIEREN/RECHNEN\n",
    "print(f'Die elementweise Multiplikation von Matrix1 und Eye ist {Matrix1*Eye}')\n",
    "    #(zur Erinnerung: mit @ reguläre Matrizenmultiplikation)"
   ]
  },
  {
   "cell_type": "code",
   "execution_count": 142,
   "metadata": {},
   "outputs": [
    {
     "name": "stdout",
     "output_type": "stream",
     "text": [
      "[[ 1  2  3]\n",
      " [ 4  5  6]\n",
      " [ 7  8  9]\n",
      " [10 11 12]]\n",
      "[ 1  2  3  4  5  6  7  8  9 10 11 12]\n"
     ]
    }
   ],
   "source": [
    "# APPEND\n",
    "    # create a new row\n",
    "new_row = np.array([[10, 11, 12]])\n",
    "    # append new_row to Matrix1\n",
    "print(np.append(Matrix1, new_row, axis=0)) \n",
    "    # \"axis=0\" definiert die Achse, entlang welcher neue Elemnte hinzugefügt werden sollen\n",
    "    # bei Weglassung dieses Arguments wird der gesamte Array zu einem Reihenvektor \"platt gemacht\"\n",
    "print(np.append(Matrix1, new_row))"
   ]
  },
  {
   "cell_type": "markdown",
   "metadata": {},
   "source": [
    "## 4. **if else** und **for loops**\n",
    "\n",
    "### 4.1 **if else**\n",
    "\n",
    "In Python ermöglichen if-else-Bedingungen, dass verschiedene Codeblöcke basierend auf der Wahrheit einer Bedingung ausgeführt werden. Während `if else` klar macht, dass nur einer der beiden Blöcke ausgeführt wird, führen mehrere unabhängige `if`-Bedingungen dazu, dass jede Bedingung separat überprüft wird. Das kann in bestimmten Fällen ineffizienter sein.\n",
    "Hier ist ein einfaches Beispiel für `if else`, das überprüft, ob eine Zahl positiv, negativ oder null ist:"
   ]
  },
  {
   "cell_type": "code",
   "execution_count": 143,
   "metadata": {},
   "outputs": [
    {
     "name": "stdout",
     "output_type": "stream",
     "text": [
      "Die Zahl 10 ist positiv\n"
     ]
    }
   ],
   "source": [
    "zahl2 = 10\n",
    "\n",
    "if zahl2 > 0:\n",
    "    print(f'Die Zahl {zahl2} ist positiv')\n",
    "elif zahl2 < 0:\n",
    "    print(f'Die Zahl {zahl2} ist negativ')\n",
    "else:\n",
    "    print(f'Die Zahl {zahl2} ist negativ oder null')"
   ]
  },
  {
   "cell_type": "markdown",
   "metadata": {},
   "source": [
    "Das `elif` steht für `else if` und kann theoretisch beliebig oft benutzt werden.\n",
    "\n",
    "### 4.2 **for loops**\n",
    "\n",
    "In Pyhton iterieren `for`-loops über Listen/Arrays, weshalb die Syntax in der Regel so aussieht:"
   ]
  },
  {
   "cell_type": "code",
   "execution_count": 144,
   "metadata": {},
   "outputs": [
    {
     "name": "stdout",
     "output_type": "stream",
     "text": [
      "a\n",
      "big\n",
      "water\n",
      "tank\n"
     ]
    }
   ],
   "source": [
    "words = np.array((['a', 'big', 'water', 'tank']))\n",
    "\n",
    "for i in words:\n",
    "    print(i)\n"
   ]
  },
  {
   "cell_type": "markdown",
   "metadata": {},
   "source": [
    "<div class=\"alert alert-block alert-info\">\n",
    "Wenn man ganz normal über ein Zahlenreihe mit einem Start- und Endwert iterieren möchte, geht das natürlich auch. Und zwar mit <code> for i in range(startwert, endwert): ...</code>.\n",
    "</div>"
   ]
  },
  {
   "cell_type": "markdown",
   "metadata": {},
   "source": [
    "**Pro Tip: enumerate**\n",
    "Mit `enumerate` kann man Elemente aus einem Array bzw. aus einer Liste nummerieren und diese in einem neuen Array/Liste als Tupel abspeichern."
   ]
  },
  {
   "cell_type": "code",
   "execution_count": 148,
   "metadata": {},
   "outputs": [
    {
     "name": "stdout",
     "output_type": "stream",
     "text": [
      "[(0, 'a'), (1, 'big'), (2, 'water'), (3, 'tank')]\n",
      "[(2, 'a'), (3, 'big'), (4, 'water'), (5, 'tank')]\n",
      "0 a\n",
      "1 big\n",
      "2 water\n",
      "3 tank\n"
     ]
    }
   ],
   "source": [
    "words_enum = enumerate(words)\n",
    "print(list(words_enum))\n",
    "# Nummerierung bei 2 starten (default ist 0)\n",
    "print(list(enumerate(words, 2)))\n",
    "\n",
    "l1 = list(words_enum)\n",
    "\n",
    "\n",
    "# Iteration und Zugriff auf das erste Tupel\n",
    "for index, word in enumerate(words):\n",
    "    print(index, word)\n"
   ]
  },
  {
   "cell_type": "markdown",
   "metadata": {},
   "source": [
    "enumerate und append verbinden mit if und for (Aufgabe für Studis)"
   ]
  },
  {
   "cell_type": "markdown",
   "metadata": {},
   "source": [
    "**Pro Tip: list comprehensions**\n",
    "\n",
    "+ kleine Aufgabe"
   ]
  },
  {
   "cell_type": "markdown",
   "metadata": {},
   "source": [
    "###  how to code? Plan steps, consider working your way up by starting with simpler problem, write sufficient comments (abschließender Tipp am ENde)"
   ]
  },
  {
   "cell_type": "markdown",
   "metadata": {},
   "source": [
    "## am Ende nochmal Übersicht von allen Rechenoperationen, KOnventionen etc erneuter Verweis auf Numpz for Matlab users"
   ]
  },
  {
   "cell_type": "markdown",
   "metadata": {},
   "source": [
    "***\n",
    "other\n",
    "- objektorientierte programmierung\n",
    "- callback(listener)\n",
    "- als aufgabe 0 integrieren\n",
    "- referenz auf objekte (beispiel vielleicht)\n",
    "- Funktionen deklarieren\n",
    "- reshape doch mit reinnehmen, da in assignment 2?\n",
    "- pip install numpy"
   ]
  },
  {
   "cell_type": "code",
   "execution_count": 146,
   "metadata": {},
   "outputs": [
    {
     "name": "stdout",
     "output_type": "stream",
     "text": [
      "Next Element: (0, 'apple')\n",
      "Next Element: (1, 'banana')\n"
     ]
    }
   ],
   "source": [
    "\n",
    "\n",
    "fruits = ['apple', 'banana', 'cherry']\n",
    "enum_fruits = enumerate(fruits)\n",
    " \n",
    "next_element = next(enum_fruits)\n",
    "print(f\"Next Element: {next_element}\")\n",
    "\n",
    "next_element2 = next(enum_fruits)\n",
    "print(f\"Next Element: {next_element2}\")\n"
   ]
  },
  {
   "cell_type": "code",
   "execution_count": 147,
   "metadata": {},
   "outputs": [
    {
     "name": "stdout",
     "output_type": "stream",
     "text": [
      "[(0, [1, 2, 3]), (1, [4, 5, 6]), (2, [7, 8, 9])]\n",
      "Matrix[0][0] = 1\n",
      "Matrix[0][1] = 2\n",
      "Matrix[0][2] = 3\n",
      "Matrix[1][0] = 4\n",
      "Matrix[1][1] = 5\n",
      "Matrix[1][2] = 6\n",
      "Matrix[2][0] = 7\n",
      "Matrix[2][1] = 8\n",
      "Matrix[2][2] = 9\n"
     ]
    }
   ],
   "source": [
    "matrix = [\n",
    "    [1, 2, 3],\n",
    "    [4, 5, 6],\n",
    "    [7, 8, 9]\n",
    "]\n",
    "print(list(enumerate(matrix)))\n",
    "\n",
    "for i, col in enumerate(matrix):\n",
    "    for j, value in enumerate(col):\n",
    "        print(f\"Matrix[{i}][{j}] = {value}\")\n"
   ]
  }
 ],
 "metadata": {
  "kernelspec": {
   "display_name": "Python 3",
   "language": "python",
   "name": "python3"
  },
  "language_info": {
   "codemirror_mode": {
    "name": "ipython",
    "version": 3
   },
   "file_extension": ".py",
   "mimetype": "text/x-python",
   "name": "python",
   "nbconvert_exporter": "python",
   "pygments_lexer": "ipython3",
   "version": "3.10.12"
  }
 },
 "nbformat": 4,
 "nbformat_minor": 2
}
